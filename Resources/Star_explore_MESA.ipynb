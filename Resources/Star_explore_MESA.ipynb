{
 "cells": [
  {
   "cell_type": "markdown",
   "metadata": {},
   "source": [
    "# Explore a NuGrid star model in iPython notebook\n",
    "\n",
    "Modified for ASTR 404, Winter 2024. Execute this notebook on the [Astohub](https://astrohub.uvic.ca)."
   ]
  },
  {
   "cell_type": "markdown",
   "metadata": {},
   "source": [
    "\n",
    "### Initialize session"
   ]
  },
  {
   "cell_type": "code",
   "execution_count": null,
   "metadata": {},
   "outputs": [],
   "source": [
    "%pylab ipympl\n",
    "from nugridpy import mesa as ms\n",
    "from nugridpy import nugridse as mp\n",
    "\n",
    "data_dir=\"/data/ASDR/NuGrid\"  \n",
    "# data_dir = '/Users/fherwig/mnt/nugrid'\n",
    "\n",
    "ms.set_nugrid_path(data_dir)\n",
    "mp.set_nugrid_path(data_dir)"
   ]
  },
  {
   "cell_type": "markdown",
   "metadata": {},
   "source": [
    "### The MESA stellar evolution model\n",
    "\n",
    "By default MESA is putting out two types of data. History data provides the time evolution of scalar quantities, one per time step. This data can be accessed with the `mesa.star_log` (or `mesa.history_data` which is the same) class.\n",
    "\n",
    "MESA also outputs profile data at select time steps. Profiles are available via the `mesa_profile` class.\n",
    "\n",
    "#### History data\n",
    "Initialise the 2 solar-mass Z=0.02 MESA stellar evolution model from set1.2 using the seeker method:"
   ]
  },
  {
   "cell_type": "code",
   "execution_count": null,
   "metadata": {},
   "outputs": [],
   "source": [
    "s=ms.star_log(mass=1,Z=0.02)   # or ms.history_data which is just an alias"
   ]
  },
  {
   "cell_type": "markdown",
   "metadata": {},
   "source": [
    "`s` is an instance of the history data, which is the table of scalar quantities such as mass, $T_\\mathrm{eff}$ etc for each time step or model.\n",
    "\n",
    "There are a number of pre-defined functions or methods associated with this instances, such as an HRD or a Kippenhahn diagram:"
   ]
  },
  {
   "cell_type": "code",
   "execution_count": null,
   "metadata": {},
   "outputs": [],
   "source": [
    "ifig=102;close(ifig);figure(ifig)\n",
    "s.hrd_new()\n",
    "legend(loc='lower right').draw_frame(False)"
   ]
  },
  {
   "cell_type": "code",
   "execution_count": null,
   "metadata": {},
   "outputs": [],
   "source": [
    "ifig=107;close(ifig);figure(ifig)\n",
    "s.kip_cont(ifig=ifig, boundaries=True,engenlevels=[1e2,1e6,1e12],modstart=100,modstop=500)"
   ]
  },
  {
   "cell_type": "markdown",
   "metadata": {},
   "source": [
    "Note that each function has a pythonic doc string, e.g. `s.kip_cont`. \n",
    "\n",
    "The `s.cols` command gives a list of available columns in the history file. Maybe the most important method is `s.get('col_name)` which returns an array with the data in the column with name `col_name`.\n",
    "\n",
    "Below we demonstrate this by funding a model similar to that of our sun (age $\\approx 4.6$ billion years, mass $1\\mathrm{M_\\odot}$ and $Z=0.02$ and then find the central temperature and pressure of that stellar model."
   ]
  },
  {
   "cell_type": "code",
   "execution_count": null,
   "metadata": {},
   "outputs": [],
   "source": [
    "# this is the array with the ages of the stellar models\n",
    "s.get('star_age')"
   ]
  },
  {
   "cell_type": "code",
   "execution_count": null,
   "metadata": {},
   "outputs": [],
   "source": [
    "# find the index that corresponds to the approximate age of the sun\n",
    "# recall that we initiated `s` as a 1Msun, Z=0.02 model\n",
    "ind_sun = where(s.get('star_age')<4.6e9)[0][-1]\n",
    "ind_sun"
   ]
  },
  {
   "cell_type": "code",
   "execution_count": null,
   "metadata": {},
   "outputs": [],
   "source": [
    "# let's check what quantities we have\n",
    "s.cols"
   ]
  },
  {
   "cell_type": "markdown",
   "metadata": {},
   "source": [
    "As we can see we have the central temperature as well as some other central quantities already listed as scalar quantities in the history file:\n",
    "\n",
    "```\n",
    "'log_center_T': 123,\n",
    " 'log_center_Rho': 124,\n",
    " 'log_center_P': 125,\n",
    " 'center_mu': 126,\n",
    " 'center_ye': 127,\n",
    " 'center_h1': 128\n",
    " ```\n",
    " \n",
    " Therefore knowing the central T and P is straight forward:"
   ]
  },
  {
   "cell_type": "code",
   "execution_count": null,
   "metadata": {},
   "outputs": [],
   "source": [
    "s.get('log_center_T')[ind_sun]"
   ]
  },
  {
   "cell_type": "code",
   "execution_count": null,
   "metadata": {},
   "outputs": [],
   "source": [
    "s.get('log_center_P')[ind_sun]"
   ]
  },
  {
   "cell_type": "code",
   "execution_count": null,
   "metadata": {},
   "outputs": [],
   "source": [
    "s.get('center_h1')[ind_sun]"
   ]
  },
  {
   "cell_type": "markdown",
   "metadata": {},
   "source": [
    "We can find the same results also by looking at profile data from the MESA output.\n",
    "\n",
    "#### MESA profile files\n",
    "The `mesa.mesa_profile` class provides access to the available profile data. We can again use the seeker method to just find the righ model by initial mass and metallicity. An additional argument `num=` specifies the model number. This behaviour can be changed, see the doc string for details. Profiles are not available for all models, and the method will report which nearby model it has found."
   ]
  },
  {
   "cell_type": "code",
   "execution_count": null,
   "metadata": {},
   "outputs": [],
   "source": [
    "# The `prof` instance is now holding the data of one profile for the given model number in the `num=` argument.\n",
    "prof=ms.mesa_profile(mass=1,Z=0.02,num=ind_sun)"
   ]
  },
  {
   "cell_type": "code",
   "execution_count": null,
   "metadata": {},
   "outputs": [],
   "source": [
    "# Again, have a look at the available quantieis\n",
    "prof.cols"
   ]
  },
  {
   "cell_type": "code",
   "execution_count": null,
   "metadata": {},
   "outputs": [],
   "source": [
    "# The data is presented in arrays that go from the outside inward\n",
    "# therefore the last element is the central value\n",
    "prof.get('pressure')[-1]"
   ]
  },
  {
   "cell_type": "code",
   "execution_count": null,
   "metadata": {},
   "outputs": [],
   "source": [
    "# Of course we can also plot profiles\n",
    "ifig=108;close(ifig);figure(ifig)\n",
    "plot(prof.get('rmid'),prof.get('mu'))"
   ]
  },
  {
   "cell_type": "code",
   "execution_count": null,
   "metadata": {},
   "outputs": [],
   "source": [
    "ifig=108;close(ifig);figure(ifig)\n",
    "prof.plot('mass','c12',shape='-')"
   ]
  },
  {
   "cell_type": "code",
   "execution_count": null,
   "metadata": {},
   "outputs": [],
   "source": [
    "# get all header attributes, these are some scalar quantites (like the ones in the history instance)\n",
    "prof.header_attr"
   ]
  },
  {
   "cell_type": "markdown",
   "metadata": {},
   "source": [
    "The MESA data has a number of abundance profiles saved, but not all. These are available from the nucleosynthesis post-processing simulation with the `mppnp` code.\n",
    "\n",
    "## Analyse the `mppnp` post-processing data\n",
    "\n",
    "In the above example at model `500` the $1\\mathrm{M_\\odot}$ model star is in the Red Giant Branch phase with an inert He core and supported by H-shell burning. It has an extended convective envelope. Let's look at the abundance profiles at this stage. For this we are using the post-processing data. Just make sure you are selecting the same mass and Z value."
   ]
  },
  {
   "cell_type": "code",
   "execution_count": null,
   "metadata": {},
   "outputs": [],
   "source": [
    "pt=mp.se(mass=1,Z=0.02)"
   ]
  },
  {
   "cell_type": "markdown",
   "metadata": {},
   "source": [
    "#### What quantities are available in this data type, and what are the units?\n",
    "Each of the _se_ file sets (in fact each of the dozens of hdf5 files that make up the data set for one mass/metallicty combination, or stellar evolution track) has three types of data contained in them:\n",
    "\n",
    "data type access | content \n",
    "----------------|---------\n",
    " `pt.se.hattrs` |  a header section that holds the _header attributes_, including units in the form of factors so that if applied with the quantities the result is in cgs units \n",
    "`pt.se.cattrs` | for each cycle (or time step) the _cycle attributes_ are a number of scalar global quantities, such as total mass or star age\n",
    "`pt.se.dcols` | again, for each time step these are the vector quantities available, i.e. the data table columns; one of the data columns, _iso_massf_ is in fact a matrix where the matrix columns are different species, i.e. a radial vector of species vectors\n",
    "\n",
    "We can use the `get` method to pull any of the data. But for some standard plots there are pre-made methods available, such as for plotting the profiles of a number of isotopes. This method is the `pt.abu_profile` method. Have a look at the doc string.\n",
    "\n",
    "A complete list of isotopes can be optained with the command \n",
    "```Python\n",
    "pt.se.isotopes\n",
    "```"
   ]
  },
  {
   "cell_type": "code",
   "execution_count": null,
   "metadata": {},
   "outputs": [],
   "source": [
    "pt.abu_profile?"
   ]
  },
  {
   "cell_type": "code",
   "execution_count": null,
   "metadata": {},
   "outputs": [],
   "source": [
    "species=['H-1','He-4','C-12','C-13','N-14','N-15','O-16']\n",
    "ifig=108;close(ifig);figure(ifig)\n",
    "pt.abu_profile(isos=species, ifig=ifig, fname=500, logy=True)\n",
    "ylim(-7,0)\n",
    "legend(loc='lower right',fancybox=True, framealpha=0.9).get_frame().set_linewidth(0.0)"
   ]
  },
  {
   "cell_type": "markdown",
   "metadata": {},
   "source": [
    "The interesting features are at mass coordinate $\\approx 0.255 M_{\\odot}$. Let's have a look at this in more detail."
   ]
  },
  {
   "cell_type": "code",
   "execution_count": null,
   "metadata": {},
   "outputs": [],
   "source": [
    "species=['H-1','He-4','C-12','C-13','N-14','N-15','O-16']\n",
    "ifig=109;close(ifig);figure(ifig)\n",
    "pt.abu_profile(isos=species, ifig=ifig, fname=500, logy=True, colourblind=True)\n",
    "ylim(-7,0)\n",
    "xlim(0.242,0.260)\n",
    "legend(loc='lower left',fancybox=True, framealpha=0.9).get_frame().set_linewidth(0.0)"
   ]
  },
  {
   "cell_type": "markdown",
   "metadata": {},
   "source": [
    "Explain the abundance profiles that you see in the above plot in terms of the CN cycle H-burning.\n",
    "\n",
    "A chart plot of a certain N and Z range of the chart of isotopes may help. Provide a radial mass range for which the abundances will be averaged to provide the charts:"
   ]
  },
  {
   "cell_type": "code",
   "execution_count": null,
   "metadata": {},
   "outputs": [],
   "source": [
    "# pt.abu_chart?"
   ]
  },
  {
   "cell_type": "code",
   "execution_count": null,
   "metadata": {},
   "outputs": [],
   "source": [
    "close(500)\n",
    "pt.abu_chart(500,mass_range=(0.2525,0.2535),plotaxis=[0,24,0,24])"
   ]
  },
  {
   "cell_type": "markdown",
   "metadata": {},
   "source": [
    "## Using the astropy constants and units package\n"
   ]
  },
  {
   "cell_type": "code",
   "execution_count": 2,
   "metadata": {},
   "outputs": [],
   "source": [
    "from astropy import units as uu\n",
    "from astropy import constants as cc"
   ]
  },
  {
   "cell_type": "markdown",
   "metadata": {},
   "source": [
    "### Temperature corresponding to complete ionization of H"
   ]
  },
  {
   "cell_type": "code",
   "execution_count": 5,
   "metadata": {},
   "outputs": [
    {
     "name": "stdout",
     "output_type": "stream",
     "text": [
      "2.0709735e-12 erg\n"
     ]
    }
   ],
   "source": [
    "# internal energy of a gas of hydrogen atoms at 10^4 K\n",
    "E_int = (3./2) * cc.k_B * 1e4 * uu.K\n",
    "print(E_int.to('erg'))"
   ]
  },
  {
   "cell_type": "code",
   "execution_count": 6,
   "metadata": {},
   "outputs": [
    {
     "name": "stdout",
     "output_type": "stream",
     "text": [
      "2.1789602222399996e-11 erg\n"
     ]
    }
   ],
   "source": [
    "# ionization energy of hydrogen\n",
    "E_ionis_H = 13.6 * uu.eV\n",
    "print(E_ionis_H.to('erg'))"
   ]
  },
  {
   "cell_type": "code",
   "execution_count": 7,
   "metadata": {},
   "outputs": [
    {
     "name": "stdout",
     "output_type": "stream",
     "text": [
      "1.05e+05 K\n"
     ]
    }
   ],
   "source": [
    "# temperature corresponding to E_ionis_H\n",
    "T_ionis_H = (E_ionis_H / (1.5 * cc.k_B)).to('K')\n",
    "print(f\"{T_ionis_H:.2e}\")"
   ]
  },
  {
   "cell_type": "code",
   "execution_count": 9,
   "metadata": {},
   "outputs": [
    {
     "name": "stdout",
     "output_type": "stream",
     "text": [
      "2.275866542996316e+48 erg\n",
      "6881151502.441548 solLum\n"
     ]
    }
   ],
   "source": [
    "# binding energy of the sun\n",
    "mass_sun = 1 * uu.M_sun\n",
    "R_sun = 1 * uu.R_sun\n",
    "G = cc.G\n",
    "E_bind_sun = (3 * G * mass_sun**2) / (5 * R_sun)\n",
    "print(E_bind_sun.to('erg'))\n",
    "\n",
    "# assume binding energy of 1Msun white dwarf with 0.01 Rsun is released over 100 days, calculate the luminosity\n",
    "mass_wd = 1 * uu.M_sun\n",
    "R_wd = 0.01 * uu.R_sun\n",
    "t = 100 * uu.day\n",
    "E_bind_wd = (3 * G * mass_wd**2) / (5 * R_wd)\n",
    "L_wd = E_bind_wd / t\n",
    "print(L_wd.to('L_sun'))"
   ]
  },
  {
   "cell_type": "markdown",
   "metadata": {},
   "source": []
  }
 ],
 "metadata": {
  "kernelspec": {
   "display_name": "Python 3",
   "language": "python",
   "name": "python3"
  },
  "language_info": {
   "codemirror_mode": {
    "name": "ipython",
    "version": 3
   },
   "file_extension": ".py",
   "mimetype": "text/x-python",
   "name": "python",
   "nbconvert_exporter": "python",
   "pygments_lexer": "ipython3",
   "version": "3.8.16"
  }
 },
 "nbformat": 4,
 "nbformat_minor": 4
}
